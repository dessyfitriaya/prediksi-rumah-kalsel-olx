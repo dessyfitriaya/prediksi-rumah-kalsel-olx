{
 "cells": [
  {
   "cell_type": "code",
   "execution_count": 1,
   "metadata": {},
   "outputs": [],
   "source": [
    "import time\n",
    "from selenium import webdriver\n",
    "from bs4 import BeautifulSoup\n",
    "import pandas as pd\n",
    "from selenium.webdriver.common.by import By\n",
    "from selenium.common.exceptions import NoSuchElementException"
   ]
  },
  {
   "cell_type": "code",
   "execution_count": 2,
   "metadata": {},
   "outputs": [],
   "source": [
    "options = webdriver.ChromeOptions()\n",
    "options.add_argument(\"start-maximized\")\n",
    "url = 'https://www.olx.co.id/banjarmasin-tengah_g5002909/dijual-rumah-apartemen_c5158'\n",
    "driver = webdriver.Chrome()\n",
    "driver.maximize_window()\n",
    "driver.get(url)"
   ]
  },
  {
   "cell_type": "code",
   "execution_count": 3,
   "metadata": {},
   "outputs": [],
   "source": [
    "for i in range(300):\n",
    "  time.sleep(2)\n",
    "  try:\n",
    "    driver.find_element(By.CSS_SELECTOR, \"div._38O09 > button\").click()\n",
    "    time.sleep(2)\n",
    "  except NoSuchElementException:\n",
    "    break\n",
    "time.sleep(3)"
   ]
  },
  {
   "cell_type": "code",
   "execution_count": 4,
   "metadata": {},
   "outputs": [],
   "source": [
    "products=[]\n",
    "soup = BeautifulSoup(driver.page_source, \"html.parser\")\n",
    "for item in soup.findAll('li', class_='_1DNjI'):\n",
    "  product_name = item.find('span', class_='_2poNJ').text\n",
    "  price = item.find('span', class_='_2Ks63').text\n",
    "  detail = item.find('span', class_='YBbhy').text\n",
    "  location = item.find('span', class_='_2VQu4').text\n",
    "  products.append(\n",
    "      (product_name, price, detail, location)\n",
    "  )"
   ]
  },
  {
   "cell_type": "code",
   "execution_count": 5,
   "metadata": {},
   "outputs": [
    {
     "data": {
      "text/html": [
       "<div>\n",
       "<style scoped>\n",
       "    .dataframe tbody tr th:only-of-type {\n",
       "        vertical-align: middle;\n",
       "    }\n",
       "\n",
       "    .dataframe tbody tr th {\n",
       "        vertical-align: top;\n",
       "    }\n",
       "\n",
       "    .dataframe thead th {\n",
       "        text-align: right;\n",
       "    }\n",
       "</style>\n",
       "<table border=\"1\" class=\"dataframe\">\n",
       "  <thead>\n",
       "    <tr style=\"text-align: right;\">\n",
       "      <th></th>\n",
       "      <th>Product Name</th>\n",
       "      <th>Price</th>\n",
       "      <th>Detail</th>\n",
       "      <th>Location</th>\n",
       "    </tr>\n",
       "  </thead>\n",
       "  <tbody>\n",
       "    <tr>\n",
       "      <th>0</th>\n",
       "      <td>RUMAH MINIMALIS STRATEGIS BANJARMASIN</td>\n",
       "      <td>Rp 400.000.000</td>\n",
       "      <td>2 KT - 2 KM - 70 m2</td>\n",
       "      <td>Banjarmasin Timur, Banjarmasin Kota</td>\n",
       "    </tr>\n",
       "    <tr>\n",
       "      <th>1</th>\n",
       "      <td>Rumah baru dibangun</td>\n",
       "      <td>Rp 400.000.000</td>\n",
       "      <td>2 KT - 1 KM - 60 m2</td>\n",
       "      <td>Banjarmasin Timur, Banjarmasin Kota</td>\n",
       "    </tr>\n",
       "    <tr>\n",
       "      <th>2</th>\n",
       "      <td>SOLD OUT (TERJUAL)</td>\n",
       "      <td>Rp 550.000.000</td>\n",
       "      <td>2 KT - 1 KM - 120 m2</td>\n",
       "      <td>Banjarmasin Utara, Banjarmasin Kota</td>\n",
       "    </tr>\n",
       "    <tr>\n",
       "      <th>3</th>\n",
       "      <td>DI JUAL CEPAT RUMAH PRIBADI MURAH Di BAWAH PAS...</td>\n",
       "      <td>Rp 555.000.000</td>\n",
       "      <td>3 KT - 2 KM - 100 m2</td>\n",
       "      <td>Banjarmasin Utara, Banjarmasin Kota</td>\n",
       "    </tr>\n",
       "    <tr>\n",
       "      <th>4</th>\n",
       "      <td>RUMAH MINIMALIS type 45</td>\n",
       "      <td>Rp 400.000.000</td>\n",
       "      <td>2 KT - 1 KM - 45 m2</td>\n",
       "      <td>Banjarmasin Timur, Banjarmasin Kota</td>\n",
       "    </tr>\n",
       "    <tr>\n",
       "      <th>...</th>\n",
       "      <td>...</td>\n",
       "      <td>...</td>\n",
       "      <td>...</td>\n",
       "      <td>...</td>\n",
       "    </tr>\n",
       "    <tr>\n",
       "      <th>443</th>\n",
       "      <td>Dijual cepat Tanah dan Bangunan</td>\n",
       "      <td>Rp 230.000.000</td>\n",
       "      <td>2 KT - 1 KM - 182 m2</td>\n",
       "      <td>Landasan Ulin, Banjarbaru Kota</td>\n",
       "    </tr>\n",
       "    <tr>\n",
       "      <th>444</th>\n",
       "      <td>Rumah mewah murah type 650/1.200m2 samping mus...</td>\n",
       "      <td>Rp 3.000.000.000</td>\n",
       "      <td>5 KT - 5 KM - 650 m2</td>\n",
       "      <td>Banjar Baru Selatan, Banjarbaru Kota</td>\n",
       "    </tr>\n",
       "    <tr>\n",
       "      <th>445</th>\n",
       "      <td>Dijual Cepat rumah milik pribadi</td>\n",
       "      <td>Rp 950.000.000</td>\n",
       "      <td>6 KT - 2 KM - 160 m2</td>\n",
       "      <td>Landasan Ulin, Banjarbaru Kota</td>\n",
       "    </tr>\n",
       "    <tr>\n",
       "      <th>446</th>\n",
       "      <td>Di jual rumah type 45</td>\n",
       "      <td>Rp 350.000.000</td>\n",
       "      <td>2 KT - 1 KM - 45 m2</td>\n",
       "      <td>Banjar Baru Utara, Banjarbaru Kota</td>\n",
       "    </tr>\n",
       "    <tr>\n",
       "      <th>447</th>\n",
       "      <td>Jual Rumah Banjarbaru Loktabat Utara, LT10x19</td>\n",
       "      <td>Rp 400.000.000</td>\n",
       "      <td>2 KT - 1 KM - 150 m2</td>\n",
       "      <td>Banjar Baru Utara, Banjarbaru Kota</td>\n",
       "    </tr>\n",
       "  </tbody>\n",
       "</table>\n",
       "<p>448 rows × 4 columns</p>\n",
       "</div>"
      ],
      "text/plain": [
       "                                          Product Name             Price  \\\n",
       "0                RUMAH MINIMALIS STRATEGIS BANJARMASIN    Rp 400.000.000   \n",
       "1                                  Rumah baru dibangun    Rp 400.000.000   \n",
       "2                                   SOLD OUT (TERJUAL)    Rp 550.000.000   \n",
       "3    DI JUAL CEPAT RUMAH PRIBADI MURAH Di BAWAH PAS...    Rp 555.000.000   \n",
       "4                              RUMAH MINIMALIS type 45    Rp 400.000.000   \n",
       "..                                                 ...               ...   \n",
       "443                    Dijual cepat Tanah dan Bangunan    Rp 230.000.000   \n",
       "444  Rumah mewah murah type 650/1.200m2 samping mus...  Rp 3.000.000.000   \n",
       "445                   Dijual Cepat rumah milik pribadi    Rp 950.000.000   \n",
       "446                              Di jual rumah type 45    Rp 350.000.000   \n",
       "447      Jual Rumah Banjarbaru Loktabat Utara, LT10x19    Rp 400.000.000   \n",
       "\n",
       "                   Detail                              Location  \n",
       "0     2 KT - 2 KM - 70 m2   Banjarmasin Timur, Banjarmasin Kota  \n",
       "1     2 KT - 1 KM - 60 m2   Banjarmasin Timur, Banjarmasin Kota  \n",
       "2    2 KT - 1 KM - 120 m2   Banjarmasin Utara, Banjarmasin Kota  \n",
       "3    3 KT - 2 KM - 100 m2   Banjarmasin Utara, Banjarmasin Kota  \n",
       "4     2 KT - 1 KM - 45 m2   Banjarmasin Timur, Banjarmasin Kota  \n",
       "..                    ...                                   ...  \n",
       "443  2 KT - 1 KM - 182 m2        Landasan Ulin, Banjarbaru Kota  \n",
       "444  5 KT - 5 KM - 650 m2  Banjar Baru Selatan, Banjarbaru Kota  \n",
       "445  6 KT - 2 KM - 160 m2        Landasan Ulin, Banjarbaru Kota  \n",
       "446   2 KT - 1 KM - 45 m2    Banjar Baru Utara, Banjarbaru Kota  \n",
       "447  2 KT - 1 KM - 150 m2    Banjar Baru Utara, Banjarbaru Kota  \n",
       "\n",
       "[448 rows x 4 columns]"
      ]
     },
     "execution_count": 5,
     "metadata": {},
     "output_type": "execute_result"
    }
   ],
   "source": [
    "df = pd.DataFrame(products, columns=['Product Name', 'Price', 'Detail', 'Location'])\n",
    "df"
   ]
  },
  {
   "cell_type": "code",
   "execution_count": 6,
   "metadata": {},
   "outputs": [
    {
     "ename": "WebDriverException",
     "evalue": "Message: disconnected: not connected to DevTools\n  (failed to check if window was closed: disconnected: not connected to DevTools)\n  (Session info: chrome=125.0.6422.61)\nStacktrace:\n\tGetHandleVerifier [0x00007FF6602722C2+60002]\n\t(No symbol) [0x00007FF6601ECA59]\n\t(No symbol) [0x00007FF6600A7EDA]\n\t(No symbol) [0x00007FF66008E05F]\n\t(No symbol) [0x00007FF66008EBCF]\n\t(No symbol) [0x00007FF6600A8503]\n\t(No symbol) [0x00007FF66007D09C]\n\t(No symbol) [0x00007FF66012A824]\n\t(No symbol) [0x00007FF66011C250]\n\t(No symbol) [0x00007FF6600E9657]\n\t(No symbol) [0x00007FF6600EA251]\n\tGetHandleVerifier [0x00007FF660583E2D+3278285]\n\tGetHandleVerifier [0x00007FF6605D0190+3590448]\n\tGetHandleVerifier [0x00007FF6605C61D0+3549552]\n\tGetHandleVerifier [0x00007FF660321DE6+779654]\n\t(No symbol) [0x00007FF6601F7ACF]\n\t(No symbol) [0x00007FF6601F2EE4]\n\t(No symbol) [0x00007FF6601F3072]\n\t(No symbol) [0x00007FF6601E2C4F]\n\tBaseThreadInitThunk [0x00007FFD3A987344+20]\n\tRtlUserThreadStart [0x00007FFD3C4A26B1+33]\n",
     "output_type": "error",
     "traceback": [
      "\u001b[1;31m---------------------------------------------------------------------------\u001b[0m",
      "\u001b[1;31mWebDriverException\u001b[0m                        Traceback (most recent call last)",
      "Cell \u001b[1;32mIn[6], line 2\u001b[0m\n\u001b[0;32m      1\u001b[0m df\u001b[38;5;241m.\u001b[39mto_csv(\u001b[38;5;124m\"\u001b[39m\u001b[38;5;124mrumah_olx.csv\u001b[39m\u001b[38;5;124m\"\u001b[39m, index\u001b[38;5;241m=\u001b[39m\u001b[38;5;28;01mFalse\u001b[39;00m)\n\u001b[1;32m----> 2\u001b[0m \u001b[43mdriver\u001b[49m\u001b[38;5;241;43m.\u001b[39;49m\u001b[43mclose\u001b[49m\u001b[43m(\u001b[49m\u001b[43m)\u001b[49m\n",
      "File \u001b[1;32md:\\portofolio-ml\\.venv\\lib\\site-packages\\selenium\\webdriver\\remote\\webdriver.py:458\u001b[0m, in \u001b[0;36mWebDriver.close\u001b[1;34m(self)\u001b[0m\n\u001b[0;32m    450\u001b[0m \u001b[38;5;28;01mdef\u001b[39;00m \u001b[38;5;21mclose\u001b[39m(\u001b[38;5;28mself\u001b[39m) \u001b[38;5;241m-\u001b[39m\u001b[38;5;241m>\u001b[39m \u001b[38;5;28;01mNone\u001b[39;00m:\n\u001b[0;32m    451\u001b[0m \u001b[38;5;250m    \u001b[39m\u001b[38;5;124;03m\"\"\"Closes the current window.\u001b[39;00m\n\u001b[0;32m    452\u001b[0m \n\u001b[0;32m    453\u001b[0m \u001b[38;5;124;03m    :Usage:\u001b[39;00m\n\u001b[1;32m   (...)\u001b[0m\n\u001b[0;32m    456\u001b[0m \u001b[38;5;124;03m            driver.close()\u001b[39;00m\n\u001b[0;32m    457\u001b[0m \u001b[38;5;124;03m    \"\"\"\u001b[39;00m\n\u001b[1;32m--> 458\u001b[0m     \u001b[38;5;28;43mself\u001b[39;49m\u001b[38;5;241;43m.\u001b[39;49m\u001b[43mexecute\u001b[49m\u001b[43m(\u001b[49m\u001b[43mCommand\u001b[49m\u001b[38;5;241;43m.\u001b[39;49m\u001b[43mCLOSE\u001b[49m\u001b[43m)\u001b[49m\n",
      "File \u001b[1;32md:\\portofolio-ml\\.venv\\lib\\site-packages\\selenium\\webdriver\\remote\\webdriver.py:347\u001b[0m, in \u001b[0;36mWebDriver.execute\u001b[1;34m(self, driver_command, params)\u001b[0m\n\u001b[0;32m    345\u001b[0m response \u001b[38;5;241m=\u001b[39m \u001b[38;5;28mself\u001b[39m\u001b[38;5;241m.\u001b[39mcommand_executor\u001b[38;5;241m.\u001b[39mexecute(driver_command, params)\n\u001b[0;32m    346\u001b[0m \u001b[38;5;28;01mif\u001b[39;00m response:\n\u001b[1;32m--> 347\u001b[0m     \u001b[38;5;28;43mself\u001b[39;49m\u001b[38;5;241;43m.\u001b[39;49m\u001b[43merror_handler\u001b[49m\u001b[38;5;241;43m.\u001b[39;49m\u001b[43mcheck_response\u001b[49m\u001b[43m(\u001b[49m\u001b[43mresponse\u001b[49m\u001b[43m)\u001b[49m\n\u001b[0;32m    348\u001b[0m     response[\u001b[38;5;124m\"\u001b[39m\u001b[38;5;124mvalue\u001b[39m\u001b[38;5;124m\"\u001b[39m] \u001b[38;5;241m=\u001b[39m \u001b[38;5;28mself\u001b[39m\u001b[38;5;241m.\u001b[39m_unwrap_value(response\u001b[38;5;241m.\u001b[39mget(\u001b[38;5;124m\"\u001b[39m\u001b[38;5;124mvalue\u001b[39m\u001b[38;5;124m\"\u001b[39m, \u001b[38;5;28;01mNone\u001b[39;00m))\n\u001b[0;32m    349\u001b[0m     \u001b[38;5;28;01mreturn\u001b[39;00m response\n",
      "File \u001b[1;32md:\\portofolio-ml\\.venv\\lib\\site-packages\\selenium\\webdriver\\remote\\errorhandler.py:229\u001b[0m, in \u001b[0;36mErrorHandler.check_response\u001b[1;34m(self, response)\u001b[0m\n\u001b[0;32m    227\u001b[0m         alert_text \u001b[38;5;241m=\u001b[39m value[\u001b[38;5;124m\"\u001b[39m\u001b[38;5;124malert\u001b[39m\u001b[38;5;124m\"\u001b[39m]\u001b[38;5;241m.\u001b[39mget(\u001b[38;5;124m\"\u001b[39m\u001b[38;5;124mtext\u001b[39m\u001b[38;5;124m\"\u001b[39m)\n\u001b[0;32m    228\u001b[0m     \u001b[38;5;28;01mraise\u001b[39;00m exception_class(message, screen, stacktrace, alert_text)  \u001b[38;5;66;03m# type: ignore[call-arg]  # mypy is not smart enough here\u001b[39;00m\n\u001b[1;32m--> 229\u001b[0m \u001b[38;5;28;01mraise\u001b[39;00m exception_class(message, screen, stacktrace)\n",
      "\u001b[1;31mWebDriverException\u001b[0m: Message: disconnected: not connected to DevTools\n  (failed to check if window was closed: disconnected: not connected to DevTools)\n  (Session info: chrome=125.0.6422.61)\nStacktrace:\n\tGetHandleVerifier [0x00007FF6602722C2+60002]\n\t(No symbol) [0x00007FF6601ECA59]\n\t(No symbol) [0x00007FF6600A7EDA]\n\t(No symbol) [0x00007FF66008E05F]\n\t(No symbol) [0x00007FF66008EBCF]\n\t(No symbol) [0x00007FF6600A8503]\n\t(No symbol) [0x00007FF66007D09C]\n\t(No symbol) [0x00007FF66012A824]\n\t(No symbol) [0x00007FF66011C250]\n\t(No symbol) [0x00007FF6600E9657]\n\t(No symbol) [0x00007FF6600EA251]\n\tGetHandleVerifier [0x00007FF660583E2D+3278285]\n\tGetHandleVerifier [0x00007FF6605D0190+3590448]\n\tGetHandleVerifier [0x00007FF6605C61D0+3549552]\n\tGetHandleVerifier [0x00007FF660321DE6+779654]\n\t(No symbol) [0x00007FF6601F7ACF]\n\t(No symbol) [0x00007FF6601F2EE4]\n\t(No symbol) [0x00007FF6601F3072]\n\t(No symbol) [0x00007FF6601E2C4F]\n\tBaseThreadInitThunk [0x00007FFD3A987344+20]\n\tRtlUserThreadStart [0x00007FFD3C4A26B1+33]\n"
     ]
    }
   ],
   "source": [
    "df.to_csv(\"data-scraping.csv\", index=False)\n",
    "#driver.close()"
   ]
  }
 ],
 "metadata": {
  "kernelspec": {
   "display_name": "Python 3",
   "language": "python",
   "name": "python3"
  },
  "language_info": {
   "codemirror_mode": {
    "name": "ipython",
    "version": 3
   },
   "file_extension": ".py",
   "mimetype": "text/x-python",
   "name": "python",
   "nbconvert_exporter": "python",
   "pygments_lexer": "ipython3",
   "version": "3.10.0"
  }
 },
 "nbformat": 4,
 "nbformat_minor": 2
}
