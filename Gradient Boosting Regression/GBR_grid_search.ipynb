{
 "cells": [
  {
   "cell_type": "code",
   "execution_count": 2,
   "id": "59aad90f-5483-47da-8b74-6b244d6ce149",
   "metadata": {},
   "outputs": [],
   "source": [
    "import pandas as pd\n",
    "#import numpy as np\n",
    "import matplotlib.pyplot as plt\n",
    "from sklearn.compose import ColumnTransformer\n",
    "from sklearn.ensemble import GradientBoostingRegressor\n",
    "from sklearn.metrics import mean_squared_error\n",
    "from sklearn.metrics import root_mean_squared_error\n",
    "from sklearn.model_selection import cross_val_score, train_test_split\n",
    "from sklearn.model_selection import GridSearchCV\n",
    "from sklearn.model_selection import KFold\n",
    "from sklearn.pipeline import Pipeline\n",
    "from sklearn.preprocessing import OneHotEncoder, StandardScaler"
   ]
  },
  {
   "cell_type": "code",
   "execution_count": 3,
   "id": "c39f7424-b466-47a6-9439-3537a6d1606a",
   "metadata": {},
   "outputs": [],
   "source": [
    "df = pd.read_csv(\"bismillah.csv\")"
   ]
  },
  {
   "cell_type": "markdown",
   "id": "30d4e7f0-606b-437e-84b4-79c397b838e9",
   "metadata": {},
   "source": [
    "## One-Hot Encoder"
   ]
  },
  {
   "cell_type": "code",
   "execution_count": 4,
   "id": "762a57e5-9f3b-468a-b3c0-352d2c258297",
   "metadata": {},
   "outputs": [
    {
     "data": {
      "text/html": [
       "<div>\n",
       "<style scoped>\n",
       "    .dataframe tbody tr th:only-of-type {\n",
       "        vertical-align: middle;\n",
       "    }\n",
       "\n",
       "    .dataframe tbody tr th {\n",
       "        vertical-align: top;\n",
       "    }\n",
       "\n",
       "    .dataframe thead th {\n",
       "        text-align: right;\n",
       "    }\n",
       "</style>\n",
       "<table border=\"1\" class=\"dataframe\">\n",
       "  <thead>\n",
       "    <tr style=\"text-align: right;\">\n",
       "      <th></th>\n",
       "      <th>kamar_tidur</th>\n",
       "      <th>kamar_mandi</th>\n",
       "      <th>luas</th>\n",
       "      <th>harga</th>\n",
       "      <th>kota_Banjar</th>\n",
       "      <th>kota_Banjarbaru</th>\n",
       "      <th>kota_Banjarmasin</th>\n",
       "      <th>kota_Barito</th>\n",
       "      <th>kota_Kalimantan</th>\n",
       "      <th>kecamatan_Alalak</th>\n",
       "      <th>...</th>\n",
       "      <th>kecamatan_Banjarmasin Tengah</th>\n",
       "      <th>kecamatan_Banjarmasin Timur</th>\n",
       "      <th>kecamatan_Banjarmasin Utara</th>\n",
       "      <th>kecamatan_Gambut</th>\n",
       "      <th>kecamatan_Kertak Hanyar</th>\n",
       "      <th>kecamatan_Landasan Ulin</th>\n",
       "      <th>kecamatan_Liang Anggang</th>\n",
       "      <th>kecamatan_Martapura Kota</th>\n",
       "      <th>kecamatan_Sei/Sungai Tabuk</th>\n",
       "      <th>kecamatan_Tatah Makmur</th>\n",
       "    </tr>\n",
       "  </thead>\n",
       "  <tbody>\n",
       "    <tr>\n",
       "      <th>0</th>\n",
       "      <td>2</td>\n",
       "      <td>2</td>\n",
       "      <td>70</td>\n",
       "      <td>400000000</td>\n",
       "      <td>False</td>\n",
       "      <td>False</td>\n",
       "      <td>True</td>\n",
       "      <td>False</td>\n",
       "      <td>False</td>\n",
       "      <td>False</td>\n",
       "      <td>...</td>\n",
       "      <td>False</td>\n",
       "      <td>True</td>\n",
       "      <td>False</td>\n",
       "      <td>False</td>\n",
       "      <td>False</td>\n",
       "      <td>False</td>\n",
       "      <td>False</td>\n",
       "      <td>False</td>\n",
       "      <td>False</td>\n",
       "      <td>False</td>\n",
       "    </tr>\n",
       "    <tr>\n",
       "      <th>1</th>\n",
       "      <td>2</td>\n",
       "      <td>1</td>\n",
       "      <td>60</td>\n",
       "      <td>400000000</td>\n",
       "      <td>False</td>\n",
       "      <td>False</td>\n",
       "      <td>True</td>\n",
       "      <td>False</td>\n",
       "      <td>False</td>\n",
       "      <td>False</td>\n",
       "      <td>...</td>\n",
       "      <td>False</td>\n",
       "      <td>True</td>\n",
       "      <td>False</td>\n",
       "      <td>False</td>\n",
       "      <td>False</td>\n",
       "      <td>False</td>\n",
       "      <td>False</td>\n",
       "      <td>False</td>\n",
       "      <td>False</td>\n",
       "      <td>False</td>\n",
       "    </tr>\n",
       "    <tr>\n",
       "      <th>2</th>\n",
       "      <td>2</td>\n",
       "      <td>1</td>\n",
       "      <td>120</td>\n",
       "      <td>550000000</td>\n",
       "      <td>False</td>\n",
       "      <td>False</td>\n",
       "      <td>True</td>\n",
       "      <td>False</td>\n",
       "      <td>False</td>\n",
       "      <td>False</td>\n",
       "      <td>...</td>\n",
       "      <td>False</td>\n",
       "      <td>False</td>\n",
       "      <td>True</td>\n",
       "      <td>False</td>\n",
       "      <td>False</td>\n",
       "      <td>False</td>\n",
       "      <td>False</td>\n",
       "      <td>False</td>\n",
       "      <td>False</td>\n",
       "      <td>False</td>\n",
       "    </tr>\n",
       "    <tr>\n",
       "      <th>3</th>\n",
       "      <td>3</td>\n",
       "      <td>2</td>\n",
       "      <td>100</td>\n",
       "      <td>555000000</td>\n",
       "      <td>False</td>\n",
       "      <td>False</td>\n",
       "      <td>True</td>\n",
       "      <td>False</td>\n",
       "      <td>False</td>\n",
       "      <td>False</td>\n",
       "      <td>...</td>\n",
       "      <td>False</td>\n",
       "      <td>False</td>\n",
       "      <td>True</td>\n",
       "      <td>False</td>\n",
       "      <td>False</td>\n",
       "      <td>False</td>\n",
       "      <td>False</td>\n",
       "      <td>False</td>\n",
       "      <td>False</td>\n",
       "      <td>False</td>\n",
       "    </tr>\n",
       "    <tr>\n",
       "      <th>4</th>\n",
       "      <td>2</td>\n",
       "      <td>1</td>\n",
       "      <td>45</td>\n",
       "      <td>400000000</td>\n",
       "      <td>False</td>\n",
       "      <td>False</td>\n",
       "      <td>True</td>\n",
       "      <td>False</td>\n",
       "      <td>False</td>\n",
       "      <td>False</td>\n",
       "      <td>...</td>\n",
       "      <td>False</td>\n",
       "      <td>True</td>\n",
       "      <td>False</td>\n",
       "      <td>False</td>\n",
       "      <td>False</td>\n",
       "      <td>False</td>\n",
       "      <td>False</td>\n",
       "      <td>False</td>\n",
       "      <td>False</td>\n",
       "      <td>False</td>\n",
       "    </tr>\n",
       "  </tbody>\n",
       "</table>\n",
       "<p>5 rows × 24 columns</p>\n",
       "</div>"
      ],
      "text/plain": [
       "   kamar_tidur  kamar_mandi  luas      harga  kota_Banjar  kota_Banjarbaru  \\\n",
       "0            2            2    70  400000000        False            False   \n",
       "1            2            1    60  400000000        False            False   \n",
       "2            2            1   120  550000000        False            False   \n",
       "3            3            2   100  555000000        False            False   \n",
       "4            2            1    45  400000000        False            False   \n",
       "\n",
       "   kota_Banjarmasin  kota_Barito  kota_Kalimantan  kecamatan_Alalak  ...  \\\n",
       "0              True        False            False             False  ...   \n",
       "1              True        False            False             False  ...   \n",
       "2              True        False            False             False  ...   \n",
       "3              True        False            False             False  ...   \n",
       "4              True        False            False             False  ...   \n",
       "\n",
       "   kecamatan_Banjarmasin Tengah  kecamatan_Banjarmasin Timur  \\\n",
       "0                         False                         True   \n",
       "1                         False                         True   \n",
       "2                         False                        False   \n",
       "3                         False                        False   \n",
       "4                         False                         True   \n",
       "\n",
       "   kecamatan_Banjarmasin Utara  kecamatan_Gambut  kecamatan_Kertak Hanyar  \\\n",
       "0                        False             False                    False   \n",
       "1                        False             False                    False   \n",
       "2                         True             False                    False   \n",
       "3                         True             False                    False   \n",
       "4                        False             False                    False   \n",
       "\n",
       "   kecamatan_Landasan Ulin  kecamatan_Liang Anggang  kecamatan_Martapura Kota  \\\n",
       "0                    False                    False                     False   \n",
       "1                    False                    False                     False   \n",
       "2                    False                    False                     False   \n",
       "3                    False                    False                     False   \n",
       "4                    False                    False                     False   \n",
       "\n",
       "   kecamatan_Sei/Sungai Tabuk  kecamatan_Tatah Makmur  \n",
       "0                       False                   False  \n",
       "1                       False                   False  \n",
       "2                       False                   False  \n",
       "3                       False                   False  \n",
       "4                       False                   False  \n",
       "\n",
       "[5 rows x 24 columns]"
      ]
     },
     "execution_count": 4,
     "metadata": {},
     "output_type": "execute_result"
    }
   ],
   "source": [
    "from sklearn.preprocessing import OneHotEncoder\n",
    "\n",
    "df = pd.concat([df, pd.get_dummies(df['kota'], prefix='kota')], axis=1)\n",
    "df = pd.concat([df, pd.get_dummies(df['kecamatan'], prefix='kecamatan')], axis=1)\n",
    "df.drop(['kota', 'kecamatan'], axis=1, inplace=True)\n",
    "df.head()"
   ]
  },
  {
   "cell_type": "markdown",
   "id": "11e8cf2b-bf37-4e18-bc84-288ef846ac7b",
   "metadata": {},
   "source": [
    "## Split Train Test"
   ]
  },
  {
   "cell_type": "code",
   "execution_count": 5,
   "id": "cdbdf7c1-166f-40a3-8998-5769a8cc3947",
   "metadata": {},
   "outputs": [],
   "source": [
    "X = df.drop(columns=['harga'])\n",
    "y = df['harga']"
   ]
  },
  {
   "cell_type": "code",
   "execution_count": 6,
   "id": "f42c9bca-9790-492a-8047-1110c22bd380",
   "metadata": {},
   "outputs": [],
   "source": [
    "X_train, X_test, y_train, y_test = train_test_split(X, y,\n",
    "                                                    test_size = 0.2, \n",
    "                                                    random_state = 137)"
   ]
  },
  {
   "cell_type": "markdown",
   "id": "d90ae33b-1eee-4020-ad30-5721c9dc3ecc",
   "metadata": {},
   "source": [
    "## Standard Scaler"
   ]
  },
  {
   "cell_type": "code",
   "execution_count": 7,
   "id": "1635f2a6-f27f-4133-87b4-0b3ffcd29681",
   "metadata": {},
   "outputs": [],
   "source": [
    "from sklearn.preprocessing import StandardScaler\n",
    "\n",
    "numerical_features = ['kamar_mandi', 'kamar_tidur', 'luas']\n",
    "scaler = StandardScaler()\n",
    "scaler.fit(X_train[numerical_features])\n",
    "X_train[numerical_features] = scaler.transform(X_train.loc[:, numerical_features])"
   ]
  },
  {
   "cell_type": "markdown",
   "id": "657c384d-b172-4197-9f7e-c97cbd9fb298",
   "metadata": {},
   "source": [
    "## GridSearchCV"
   ]
  },
  {
   "cell_type": "code",
   "execution_count": 8,
   "id": "dc045d8d-a500-4f79-8220-ddb027b2917f",
   "metadata": {},
   "outputs": [],
   "source": [
    "crossvalidation = KFold(n_splits=10, shuffle=True, random_state=1)"
   ]
  },
  {
   "cell_type": "code",
   "execution_count": 9,
   "id": "3209860d-6654-4524-bf27-1dd8fcdc3656",
   "metadata": {},
   "outputs": [],
   "source": [
    "GBR=GradientBoostingRegressor()\n",
    "search_grid={'n_estimators':[500, 1000, 2000], \n",
    "             'min_samples_split':[5, 10, 15],\n",
    "             'min_samples_leaf':[5, 10, 15], \n",
    "             'max_depth':[8, 16, 24]}\n",
    "search=GridSearchCV(estimator=GBR, \n",
    "                    param_grid=search_grid,\n",
    "                    scoring='neg_mean_squared_error', \n",
    "                    n_jobs=-1,\n",
    "                    verbose=3,\n",
    "                    cv=crossvalidation)"
   ]
  },
  {
   "cell_type": "code",
   "execution_count": 10,
   "id": "646114b2-2621-4bc2-8678-235e5419f474",
   "metadata": {},
   "outputs": [
    {
     "name": "stdout",
     "output_type": "stream",
     "text": [
      "Fitting 10 folds for each of 81 candidates, totalling 810 fits\n",
      "{'max_depth': 8, 'min_samples_leaf': 15, 'min_samples_split': 10, 'n_estimators': 500}\n",
      "-8.701419679782397e+16\n"
     ]
    }
   ],
   "source": [
    "search.fit(X_train, y_train)\n",
    "print(search.best_params_)\n",
    "print(search.best_score_)"
   ]
  },
  {
   "cell_type": "markdown",
   "id": "e58f64f8-67de-4026-a55d-443ee499e4a0",
   "metadata": {},
   "source": [
    "## Model Developmet"
   ]
  },
  {
   "cell_type": "code",
   "execution_count": 11,
   "id": "7da01f81-cdee-4f95-81a0-d545e8141d4a",
   "metadata": {},
   "outputs": [],
   "source": [
    "GBR_new = GradientBoostingRegressor(max_depth=8, \n",
    "                                    min_samples_leaf=15, \n",
    "                                    min_samples_split=5, \n",
    "                                    n_estimators=500)\n",
    "\n",
    "model = GBR_new.fit(X_train, y_train)"
   ]
  },
  {
   "cell_type": "code",
   "execution_count": 12,
   "id": "66d026ca-01d6-4d6c-9857-b8e25f75ae99",
   "metadata": {},
   "outputs": [
    {
     "name": "stdout",
     "output_type": "stream",
     "text": [
      "RMSE:602190108.4174551 and MSE:3.6263292667582637e+17\n"
     ]
    }
   ],
   "source": [
    "y_pred = GBR_new.predict(X_test)\n",
    "\n",
    "rmse = root_mean_squared_error(y_test, y_pred)\n",
    "mse = mean_squared_error(y_pred, y_test)\n",
    "print(f\"RMSE:{rmse} and MSE:{mse}\")"
   ]
  },
  {
   "cell_type": "code",
   "execution_count": 13,
   "id": "21c6e14c-e70d-454d-a3e0-6d132da54c3b",
   "metadata": {},
   "outputs": [
    {
     "data": {
      "image/png": "[encoded data removed]",
      "text/plain": [
       "<Figure size 640x480 with 1 Axes>"
      ]
     },
     "metadata": {},
     "output_type": "display_data"
    }
   ],
   "source": [
    "plt.scatter(y_test, y_pred, color='blue', label='Predicted vs True Values')\n",
    "plt.xlabel('True Values')\n",
    "plt.ylabel('Predicted Values')\n",
    "plt.legend()\n",
    "plt.plot([min(y_test), max(y_test)], [min(y_test), max(y_test)], color='red')  # Diagonal line for reference\n",
    "plt.show()"
   ]
  },
  {
   "cell_type": "code",
   "execution_count": null,
   "id": "326165e6-c83c-466d-bda9-931d500087ed",
   "metadata": {},
   "outputs": [],
   "source": []
  }
 ],
 "metadata": {
  "kernelspec": {
   "display_name": "Python 3 (ipykernel)",
   "language": "python",
   "name": "python3"
  },
  "language_info": {
   "codemirror_mode": {
    "name": "ipython",
    "version": 3
   },
   "file_extension": ".py",
   "mimetype": "text/x-python",
   "name": "python",
   "nbconvert_exporter": "python",
   "pygments_lexer": "ipython3",
   "version": "3.10.0"
  }
 },
 "nbformat": 4,
 "nbformat_minor": 5
}
