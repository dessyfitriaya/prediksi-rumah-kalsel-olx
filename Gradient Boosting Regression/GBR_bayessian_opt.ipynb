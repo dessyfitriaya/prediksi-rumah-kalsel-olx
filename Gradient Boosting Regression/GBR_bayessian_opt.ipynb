{
 "cells": [
  {
   "cell_type": "code",
   "execution_count": 13,
   "id": "a46e3d4e-6115-4b71-88a0-2976b4ab5d4b",
   "metadata": {},
   "outputs": [
    {
     "name": "stdout",
     "output_type": "stream",
     "text": [
      "Collecting bayesian-optimization\n",
      "  Obtaining dependency information for bayesian-optimization from https://files.pythonhosted.org/packages/45/cf/3016b660afca02c6ecca3c1cc6d8df3b8f1a6ff4878103204d0aa6b4c769/bayesian_optimization-1.4.3-py3-none-any.whl.metadata\n",
      "  Downloading bayesian_optimization-1.4.3-py3-none-any.whl.metadata (543 bytes)\n",
      "Requirement already satisfied: numpy>=1.9.0 in c:\\users\\acer\\appdata\\local\\programs\\python\\python310\\lib\\site-packages (from bayesian-optimization) (1.26.2)\n",
      "Requirement already satisfied: scipy>=1.0.0 in c:\\users\\acer\\appdata\\local\\programs\\python\\python310\\lib\\site-packages (from bayesian-optimization) (1.13.0)\n",
      "Requirement already satisfied: scikit-learn>=0.18.0 in c:\\users\\acer\\appdata\\local\\programs\\python\\python310\\lib\\site-packages (from bayesian-optimization) (1.4.1.post1)\n",
      "Requirement already satisfied: colorama>=0.4.6 in c:\\users\\acer\\appdata\\local\\programs\\python\\python310\\lib\\site-packages (from bayesian-optimization) (0.4.6)\n",
      "Requirement already satisfied: joblib>=1.2.0 in c:\\users\\acer\\appdata\\local\\programs\\python\\python310\\lib\\site-packages (from scikit-learn>=0.18.0->bayesian-optimization) (1.3.2)\n",
      "Requirement already satisfied: threadpoolctl>=2.0.0 in c:\\users\\acer\\appdata\\local\\programs\\python\\python310\\lib\\site-packages (from scikit-learn>=0.18.0->bayesian-optimization) (3.4.0)\n",
      "Downloading bayesian_optimization-1.4.3-py3-none-any.whl (18 kB)\n",
      "Installing collected packages: bayesian-optimization\n",
      "Successfully installed bayesian-optimization-1.4.3\n"
     ]
    },
    {
     "name": "stderr",
     "output_type": "stream",
     "text": [
      "\n",
      "[notice] A new release of pip is available: 23.2.1 -> 24.0\n",
      "[notice] To update, run: python.exe -m pip install --upgrade pip\n"
     ]
    }
   ],
   "source": [
    "!pip install bayesian-optimization"
   ]
  },
  {
   "cell_type": "code",
   "execution_count": 2,
   "id": "f4b7d4a5-a5e2-4bd6-a76d-d6bccb96f884",
   "metadata": {},
   "outputs": [],
   "source": [
    "import pandas as pd\n",
    "#import seaborn as sns\n",
    "import matplotlib.pyplot as plt\n",
    "from sklearn.ensemble import GradientBoostingRegressor\n",
    "from sklearn.metrics import mean_squared_error\n",
    "from sklearn.metrics import root_mean_squared_error\n",
    "from sklearn.model_selection import cross_val_score, train_test_split\n",
    "from sklearn.preprocessing import OneHotEncoder, StandardScaler\n",
    "from bayes_opt import BayesianOptimization\n",
    "import numpy as np"
   ]
  },
  {
   "cell_type": "code",
   "execution_count": 3,
   "id": "8647f6cc-1743-4846-8946-dca15793b084",
   "metadata": {},
   "outputs": [],
   "source": [
    "df = pd.read_csv(\"bismillah.csv\")"
   ]
  },
  {
   "cell_type": "markdown",
   "id": "05258cdf-9465-42c5-a8a1-2c545817bf52",
   "metadata": {},
   "source": [
    "## One-Hot Encoder"
   ]
  },
  {
   "cell_type": "code",
   "execution_count": 4,
   "id": "17e2fc00-5018-4c84-a9f9-47956350d87d",
   "metadata": {},
   "outputs": [
    {
     "data": {
      "text/html": [
       "<div>\n",
       "<style scoped>\n",
       "    .dataframe tbody tr th:only-of-type {\n",
       "        vertical-align: middle;\n",
       "    }\n",
       "\n",
       "    .dataframe tbody tr th {\n",
       "        vertical-align: top;\n",
       "    }\n",
       "\n",
       "    .dataframe thead th {\n",
       "        text-align: right;\n",
       "    }\n",
       "</style>\n",
       "<table border=\"1\" class=\"dataframe\">\n",
       "  <thead>\n",
       "    <tr style=\"text-align: right;\">\n",
       "      <th></th>\n",
       "      <th>kamar_tidur</th>\n",
       "      <th>kamar_mandi</th>\n",
       "      <th>luas</th>\n",
       "      <th>harga</th>\n",
       "      <th>kota_Banjar</th>\n",
       "      <th>kota_Banjarbaru</th>\n",
       "      <th>kota_Banjarmasin</th>\n",
       "      <th>kota_Barito</th>\n",
       "      <th>kota_Kalimantan</th>\n",
       "      <th>kecamatan_Alalak</th>\n",
       "      <th>...</th>\n",
       "      <th>kecamatan_Banjarmasin Tengah</th>\n",
       "      <th>kecamatan_Banjarmasin Timur</th>\n",
       "      <th>kecamatan_Banjarmasin Utara</th>\n",
       "      <th>kecamatan_Gambut</th>\n",
       "      <th>kecamatan_Kertak Hanyar</th>\n",
       "      <th>kecamatan_Landasan Ulin</th>\n",
       "      <th>kecamatan_Liang Anggang</th>\n",
       "      <th>kecamatan_Martapura Kota</th>\n",
       "      <th>kecamatan_Sei/Sungai Tabuk</th>\n",
       "      <th>kecamatan_Tatah Makmur</th>\n",
       "    </tr>\n",
       "  </thead>\n",
       "  <tbody>\n",
       "    <tr>\n",
       "      <th>0</th>\n",
       "      <td>2</td>\n",
       "      <td>2</td>\n",
       "      <td>70</td>\n",
       "      <td>400000000</td>\n",
       "      <td>False</td>\n",
       "      <td>False</td>\n",
       "      <td>True</td>\n",
       "      <td>False</td>\n",
       "      <td>False</td>\n",
       "      <td>False</td>\n",
       "      <td>...</td>\n",
       "      <td>False</td>\n",
       "      <td>True</td>\n",
       "      <td>False</td>\n",
       "      <td>False</td>\n",
       "      <td>False</td>\n",
       "      <td>False</td>\n",
       "      <td>False</td>\n",
       "      <td>False</td>\n",
       "      <td>False</td>\n",
       "      <td>False</td>\n",
       "    </tr>\n",
       "    <tr>\n",
       "      <th>1</th>\n",
       "      <td>2</td>\n",
       "      <td>1</td>\n",
       "      <td>60</td>\n",
       "      <td>400000000</td>\n",
       "      <td>False</td>\n",
       "      <td>False</td>\n",
       "      <td>True</td>\n",
       "      <td>False</td>\n",
       "      <td>False</td>\n",
       "      <td>False</td>\n",
       "      <td>...</td>\n",
       "      <td>False</td>\n",
       "      <td>True</td>\n",
       "      <td>False</td>\n",
       "      <td>False</td>\n",
       "      <td>False</td>\n",
       "      <td>False</td>\n",
       "      <td>False</td>\n",
       "      <td>False</td>\n",
       "      <td>False</td>\n",
       "      <td>False</td>\n",
       "    </tr>\n",
       "    <tr>\n",
       "      <th>2</th>\n",
       "      <td>2</td>\n",
       "      <td>1</td>\n",
       "      <td>120</td>\n",
       "      <td>550000000</td>\n",
       "      <td>False</td>\n",
       "      <td>False</td>\n",
       "      <td>True</td>\n",
       "      <td>False</td>\n",
       "      <td>False</td>\n",
       "      <td>False</td>\n",
       "      <td>...</td>\n",
       "      <td>False</td>\n",
       "      <td>False</td>\n",
       "      <td>True</td>\n",
       "      <td>False</td>\n",
       "      <td>False</td>\n",
       "      <td>False</td>\n",
       "      <td>False</td>\n",
       "      <td>False</td>\n",
       "      <td>False</td>\n",
       "      <td>False</td>\n",
       "    </tr>\n",
       "    <tr>\n",
       "      <th>3</th>\n",
       "      <td>3</td>\n",
       "      <td>2</td>\n",
       "      <td>100</td>\n",
       "      <td>555000000</td>\n",
       "      <td>False</td>\n",
       "      <td>False</td>\n",
       "      <td>True</td>\n",
       "      <td>False</td>\n",
       "      <td>False</td>\n",
       "      <td>False</td>\n",
       "      <td>...</td>\n",
       "      <td>False</td>\n",
       "      <td>False</td>\n",
       "      <td>True</td>\n",
       "      <td>False</td>\n",
       "      <td>False</td>\n",
       "      <td>False</td>\n",
       "      <td>False</td>\n",
       "      <td>False</td>\n",
       "      <td>False</td>\n",
       "      <td>False</td>\n",
       "    </tr>\n",
       "    <tr>\n",
       "      <th>4</th>\n",
       "      <td>2</td>\n",
       "      <td>1</td>\n",
       "      <td>45</td>\n",
       "      <td>400000000</td>\n",
       "      <td>False</td>\n",
       "      <td>False</td>\n",
       "      <td>True</td>\n",
       "      <td>False</td>\n",
       "      <td>False</td>\n",
       "      <td>False</td>\n",
       "      <td>...</td>\n",
       "      <td>False</td>\n",
       "      <td>True</td>\n",
       "      <td>False</td>\n",
       "      <td>False</td>\n",
       "      <td>False</td>\n",
       "      <td>False</td>\n",
       "      <td>False</td>\n",
       "      <td>False</td>\n",
       "      <td>False</td>\n",
       "      <td>False</td>\n",
       "    </tr>\n",
       "  </tbody>\n",
       "</table>\n",
       "<p>5 rows × 24 columns</p>\n",
       "</div>"
      ],
      "text/plain": [
       "   kamar_tidur  kamar_mandi  luas      harga  kota_Banjar  kota_Banjarbaru  \\\n",
       "0            2            2    70  400000000        False            False   \n",
       "1            2            1    60  400000000        False            False   \n",
       "2            2            1   120  550000000        False            False   \n",
       "3            3            2   100  555000000        False            False   \n",
       "4            2            1    45  400000000        False            False   \n",
       "\n",
       "   kota_Banjarmasin  kota_Barito  kota_Kalimantan  kecamatan_Alalak  ...  \\\n",
       "0              True        False            False             False  ...   \n",
       "1              True        False            False             False  ...   \n",
       "2              True        False            False             False  ...   \n",
       "3              True        False            False             False  ...   \n",
       "4              True        False            False             False  ...   \n",
       "\n",
       "   kecamatan_Banjarmasin Tengah  kecamatan_Banjarmasin Timur  \\\n",
       "0                         False                         True   \n",
       "1                         False                         True   \n",
       "2                         False                        False   \n",
       "3                         False                        False   \n",
       "4                         False                         True   \n",
       "\n",
       "   kecamatan_Banjarmasin Utara  kecamatan_Gambut  kecamatan_Kertak Hanyar  \\\n",
       "0                        False             False                    False   \n",
       "1                        False             False                    False   \n",
       "2                         True             False                    False   \n",
       "3                         True             False                    False   \n",
       "4                        False             False                    False   \n",
       "\n",
       "   kecamatan_Landasan Ulin  kecamatan_Liang Anggang  kecamatan_Martapura Kota  \\\n",
       "0                    False                    False                     False   \n",
       "1                    False                    False                     False   \n",
       "2                    False                    False                     False   \n",
       "3                    False                    False                     False   \n",
       "4                    False                    False                     False   \n",
       "\n",
       "   kecamatan_Sei/Sungai Tabuk  kecamatan_Tatah Makmur  \n",
       "0                       False                   False  \n",
       "1                       False                   False  \n",
       "2                       False                   False  \n",
       "3                       False                   False  \n",
       "4                       False                   False  \n",
       "\n",
       "[5 rows x 24 columns]"
      ]
     },
     "execution_count": 4,
     "metadata": {},
     "output_type": "execute_result"
    }
   ],
   "source": [
    "from sklearn.preprocessing import OneHotEncoder\n",
    "\n",
    "df = pd.concat([df, pd.get_dummies(df['kota'], prefix='kota')], axis=1)\n",
    "df = pd.concat([df, pd.get_dummies(df['kecamatan'], prefix='kecamatan')], axis=1)\n",
    "df.drop(['kota', 'kecamatan'], axis=1, inplace=True)\n",
    "df.head()"
   ]
  },
  {
   "cell_type": "markdown",
   "id": "197b1178-d142-46e5-aa28-056c1983e923",
   "metadata": {},
   "source": [
    "## Split dataset"
   ]
  },
  {
   "cell_type": "code",
   "execution_count": 5,
   "id": "18723214-3625-4273-93bd-1019487a06ce",
   "metadata": {},
   "outputs": [],
   "source": [
    "X = df.drop(columns=['harga'])\n",
    "y = df['harga']"
   ]
  },
  {
   "cell_type": "code",
   "execution_count": 6,
   "id": "767c1d7d-007b-4401-94b3-62a571e0a161",
   "metadata": {},
   "outputs": [],
   "source": [
    "X_train, X_test, y_train, y_test = train_test_split(\n",
    "    X, y, test_size=0.2, random_state=42)"
   ]
  },
  {
   "cell_type": "markdown",
   "id": "65b13286-dc42-4bc4-805d-a60f72c67545",
   "metadata": {},
   "source": [
    "## Standard Scaler"
   ]
  },
  {
   "cell_type": "code",
   "execution_count": 7,
   "id": "ddeaf3be-c9fa-452a-847e-f9d781e6ebe5",
   "metadata": {},
   "outputs": [],
   "source": [
    "from sklearn.preprocessing import StandardScaler\n",
    "\n",
    "numerical_features = ['kamar_mandi', 'kamar_tidur', 'luas']\n",
    "scaler = StandardScaler()\n",
    "scaler.fit(X_train[numerical_features])\n",
    "X_train[numerical_features] = scaler.transform(X_train.loc[:, numerical_features])"
   ]
  },
  {
   "cell_type": "markdown",
   "id": "d34d95cc-7d8d-49e5-b3f8-c3238fe149ed",
   "metadata": {},
   "source": [
    "## Bayesian Optimization"
   ]
  },
  {
   "cell_type": "code",
   "execution_count": 8,
   "id": "43899ebc-c066-40ff-bc48-9c494686b006",
   "metadata": {},
   "outputs": [],
   "source": [
    "def grb_regression(n_estimators, max_depth, min_samples_split, min_samples_leaf):\n",
    "    # param ubah ke int karena GBR tidak menerima float\n",
    "    gbr = GradientBoostingRegressor(n_estimators=int(n_estimators),\n",
    "                                    max_depth=int(max_depth),\n",
    "                                    min_samples_split=int(min_samples_split),\n",
    "                                    min_samples_leaf=int(min_samples_leaf),\n",
    "                                    random_state=0)\n",
    "    \n",
    "    # evaluasi model menggunakan cross-validation\n",
    "    scores = cross_val_score(gbr, X_train, y_train, \n",
    "                             scoring='neg_mean_squared_error', cv=5)\n",
    "    return np.mean(scores)"
   ]
  },
  {
   "cell_type": "code",
   "execution_count": 9,
   "id": "b5682af5-ad32-46d4-ad0e-0b2aa4c5c519",
   "metadata": {},
   "outputs": [
    {
     "name": "stdout",
     "output_type": "stream",
     "text": [
      "|   iter    |  target   | max_depth | min_sa... | min_sa... | n_esti... |\n",
      "-------------------------------------------------------------------------\n",
      "| \u001b[0m1        \u001b[0m | \u001b[0m-7.647e+1\u001b[0m | \u001b[0m13.93    \u001b[0m | \u001b[0m7.483    \u001b[0m | \u001b[0m2.001    \u001b[0m | \u001b[0m39.07    \u001b[0m |\n",
      "| \u001b[0m2        \u001b[0m | \u001b[0m-8.014e+1\u001b[0m | \u001b[0m5.549    \u001b[0m | \u001b[0m1.831    \u001b[0m | \u001b[0m3.49     \u001b[0m | \u001b[0m40.37    \u001b[0m |\n",
      "| \u001b[95m3        \u001b[0m | \u001b[95m-7.632e+1\u001b[0m | \u001b[95m13.22    \u001b[0m | \u001b[95m6.895    \u001b[0m | \u001b[95m2.353    \u001b[0m | \u001b[95m39.91    \u001b[0m |\n",
      "| \u001b[95m4        \u001b[0m | \u001b[95m-7.484e+1\u001b[0m | \u001b[95m17.07    \u001b[0m | \u001b[95m8.534    \u001b[0m | \u001b[95m3.589    \u001b[0m | \u001b[95m45.48    \u001b[0m |\n",
      "| \u001b[0m5        \u001b[0m | \u001b[0m-8.184e+1\u001b[0m | \u001b[0m21.81    \u001b[0m | \u001b[0m5.927    \u001b[0m | \u001b[0m10.0     \u001b[0m | \u001b[0m46.29    \u001b[0m |\n",
      "| \u001b[0m6        \u001b[0m | \u001b[0m-7.643e+1\u001b[0m | \u001b[0m12.75    \u001b[0m | \u001b[0m10.0     \u001b[0m | \u001b[0m2.0      \u001b[0m | \u001b[0m46.77    \u001b[0m |\n",
      "| \u001b[0m7        \u001b[0m | \u001b[0m-7.641e+1\u001b[0m | \u001b[0m19.86    \u001b[0m | \u001b[0m10.0     \u001b[0m | \u001b[0m2.0      \u001b[0m | \u001b[0m42.09    \u001b[0m |\n",
      "| \u001b[0m8        \u001b[0m | \u001b[0m-8.383e+1\u001b[0m | \u001b[0m16.0     \u001b[0m | \u001b[0m4.491    \u001b[0m | \u001b[0m2.531    \u001b[0m | \u001b[0m48.73    \u001b[0m |\n",
      "| \u001b[0m9        \u001b[0m | \u001b[0m-7.641e+1\u001b[0m | \u001b[0m15.26    \u001b[0m | \u001b[0m10.0     \u001b[0m | \u001b[0m4.052    \u001b[0m | \u001b[0m42.88    \u001b[0m |\n",
      "| \u001b[0m10       \u001b[0m | \u001b[0m-7.72e+16\u001b[0m | \u001b[0m20.06    \u001b[0m | \u001b[0m9.669    \u001b[0m | \u001b[0m2.69     \u001b[0m | \u001b[0m46.46    \u001b[0m |\n",
      "| \u001b[0m11       \u001b[0m | \u001b[0m-7.698e+1\u001b[0m | \u001b[0m17.61    \u001b[0m | \u001b[0m6.382    \u001b[0m | \u001b[0m3.259    \u001b[0m | \u001b[0m41.96    \u001b[0m |\n",
      "| \u001b[0m12       \u001b[0m | \u001b[0m-7.716e+1\u001b[0m | \u001b[0m14.71    \u001b[0m | \u001b[0m9.683    \u001b[0m | \u001b[0m6.108    \u001b[0m | \u001b[0m47.6     \u001b[0m |\n",
      "| \u001b[0m13       \u001b[0m | \u001b[0m-7.587e+1\u001b[0m | \u001b[0m13.74    \u001b[0m | \u001b[0m6.023    \u001b[0m | \u001b[0m6.948    \u001b[0m | \u001b[0m36.53    \u001b[0m |\n",
      "| \u001b[0m14       \u001b[0m | \u001b[0m-7.592e+1\u001b[0m | \u001b[0m10.95    \u001b[0m | \u001b[0m9.781    \u001b[0m | \u001b[0m5.936    \u001b[0m | \u001b[0m36.71    \u001b[0m |\n",
      "| \u001b[0m15       \u001b[0m | \u001b[0m-7.486e+1\u001b[0m | \u001b[0m12.58    \u001b[0m | \u001b[0m7.626    \u001b[0m | \u001b[0m4.438    \u001b[0m | \u001b[0m32.59    \u001b[0m |\n",
      "| \u001b[0m16       \u001b[0m | \u001b[0m-7.616e+1\u001b[0m | \u001b[0m14.19    \u001b[0m | \u001b[0m9.764    \u001b[0m | \u001b[0m7.915    \u001b[0m | \u001b[0m32.27    \u001b[0m |\n",
      "| \u001b[0m17       \u001b[0m | \u001b[0m-7.554e+1\u001b[0m | \u001b[0m9.642    \u001b[0m | \u001b[0m6.159    \u001b[0m | \u001b[0m7.354    \u001b[0m | \u001b[0m32.16    \u001b[0m |\n",
      "=========================================================================\n",
      "{'target': -7.484064161730166e+16, 'params': {'max_depth': 17.067291364622598, 'min_samples_leaf': 8.53398041889185, 'min_samples_split': 3.589261143021257, 'n_estimators': 45.47537230670599}}\n"
     ]
    }
   ],
   "source": [
    "param_bounds = {\n",
    "    'n_estimators': (30, 60),\n",
    "    'max_depth': (1, 32),\n",
    "    'min_samples_split': (2, 10),\n",
    "    'min_samples_leaf': (1, 10)\n",
    "}\n",
    "\n",
    "# Initialize the Bayesian Optimizer\n",
    "GBR_BO = BayesianOptimization(\n",
    "    f=grb_regression,\n",
    "    pbounds=param_bounds,\n",
    "    random_state=1\n",
    ")\n",
    "\n",
    "# Run the optimization\n",
    "GBR_BO.maximize(\n",
    "    n_iter=15,\n",
    "    init_points=2\n",
    ")\n",
    "\n",
    "# Print the best parameters\n",
    "print(GBR_BO.max)"
   ]
  },
  {
   "cell_type": "markdown",
   "id": "27d4b68a-e13a-46fa-a8c9-6883fe5c6337",
   "metadata": {},
   "source": [
    "## Model development"
   ]
  },
  {
   "cell_type": "code",
   "execution_count": 16,
   "id": "fc720d2c-b2c4-43b3-b3cd-0a49dd256b9f",
   "metadata": {},
   "outputs": [],
   "source": [
    "GBR_new = GradientBoostingRegressor(max_depth= 17, \n",
    "                                    min_samples_leaf=9, \n",
    "                                    min_samples_split=4,\n",
    "                                    n_estimators=45)\n",
    "\n",
    "model = GBR_new.fit(X_train, y_train)"
   ]
  },
  {
   "cell_type": "code",
   "execution_count": 17,
   "id": "eb63e5fc-f018-4446-9821-8e0de9fde3aa",
   "metadata": {},
   "outputs": [
    {
     "name": "stdout",
     "output_type": "stream",
     "text": [
      "MSE: 3.13983342408982e+17 and RMSE:560342165.4747945\n"
     ]
    }
   ],
   "source": [
    "y_pred = model.predict(X_test)\n",
    "\n",
    "mse = mean_squared_error(y_test, y_pred)\n",
    "rmse = root_mean_squared_error(y_test, y_pred)\n",
    "print(f\"MSE: {mse} and RMSE:{rmse}\")"
   ]
  },
  {
   "cell_type": "code",
   "execution_count": 18,
   "id": "6971f5c6-3c9d-4f09-9417-7ea1b9e7f618",
   "metadata": {},
   "outputs": [
    {
     "data": {
      "image/png": "[encoded data removed]",
      "text/plain": [
       "<Figure size 640x480 with 1 Axes>"
      ]
     },
     "metadata": {},
     "output_type": "display_data"
    }
   ],
   "source": [
    "# Scatter plot of true vs predicted values\n",
    "plt.scatter(y_test, y_pred, color='blue', label='Predicted vs True Values')\n",
    "plt.xlabel('True Values')\n",
    "plt.ylabel('Predicted Values')\n",
    "plt.legend()\n",
    "plt.plot([min(y_test), max(y_test)], [min(y_test), max(y_test)], color='red')  # Diagonal line for reference\n",
    "plt.show()"
   ]
  },
  {
   "cell_type": "code",
   "execution_count": null,
   "id": "c7526f23-1959-46f4-95ca-172852fd8de0",
   "metadata": {},
   "outputs": [],
   "source": []
  }
 ],
 "metadata": {
  "kernelspec": {
   "display_name": "Python 3 (ipykernel)",
   "language": "python",
   "name": "python3"
  },
  "language_info": {
   "codemirror_mode": {
    "name": "ipython",
    "version": 3
   },
   "file_extension": ".py",
   "mimetype": "text/x-python",
   "name": "python",
   "nbconvert_exporter": "python",
   "pygments_lexer": "ipython3",
   "version": "3.10.0"
  }
 },
 "nbformat": 4,
 "nbformat_minor": 5
}
