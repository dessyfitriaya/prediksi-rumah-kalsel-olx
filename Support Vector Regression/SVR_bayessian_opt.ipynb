{
 "cells": [
  {
   "cell_type": "code",
   "execution_count": 1,
   "id": "a46e3d4e-6115-4b71-88a0-2976b4ab5d4b",
   "metadata": {},
   "outputs": [
    {
     "name": "stdout",
     "output_type": "stream",
     "text": [
      "Requirement already satisfied: bayesian-optimization in c:\\users\\acer\\appdata\\local\\programs\\python\\python310\\lib\\site-packages (1.4.3)\n",
      "Requirement already satisfied: numpy>=1.9.0 in c:\\users\\acer\\appdata\\local\\programs\\python\\python310\\lib\\site-packages (from bayesian-optimization) (1.26.2)\n",
      "Requirement already satisfied: scipy>=1.0.0 in c:\\users\\acer\\appdata\\local\\programs\\python\\python310\\lib\\site-packages (from bayesian-optimization) (1.13.0)\n",
      "Requirement already satisfied: scikit-learn>=0.18.0 in c:\\users\\acer\\appdata\\local\\programs\\python\\python310\\lib\\site-packages (from bayesian-optimization) (1.4.1.post1)\n",
      "Requirement already satisfied: colorama>=0.4.6 in c:\\users\\acer\\appdata\\local\\programs\\python\\python310\\lib\\site-packages (from bayesian-optimization) (0.4.6)\n",
      "Requirement already satisfied: joblib>=1.2.0 in c:\\users\\acer\\appdata\\local\\programs\\python\\python310\\lib\\site-packages (from scikit-learn>=0.18.0->bayesian-optimization) (1.3.2)\n",
      "Requirement already satisfied: threadpoolctl>=2.0.0 in c:\\users\\acer\\appdata\\local\\programs\\python\\python310\\lib\\site-packages (from scikit-learn>=0.18.0->bayesian-optimization) (3.4.0)\n"
     ]
    },
    {
     "name": "stderr",
     "output_type": "stream",
     "text": [
      "\n",
      "[notice] A new release of pip is available: 23.2.1 -> 24.0\n",
      "[notice] To update, run: python.exe -m pip install --upgrade pip\n"
     ]
    }
   ],
   "source": [
    "!pip install bayesian-optimization"
   ]
  },
  {
   "cell_type": "code",
   "execution_count": 2,
   "id": "f4b7d4a5-a5e2-4bd6-a76d-d6bccb96f884",
   "metadata": {},
   "outputs": [],
   "source": [
    "import pandas as pd\n",
    "import numpy as np\n",
    "import matplotlib.pyplot as plt\n",
    "from sklearn import svm\n",
    "from sklearn.metrics import mean_squared_error, root_mean_squared_error\n",
    "from sklearn.metrics import root_mean_squared_error\n",
    "from sklearn.model_selection import cross_val_score, train_test_split\n",
    "from sklearn.preprocessing import OneHotEncoder, StandardScaler\n",
    "from bayes_opt import BayesianOptimization\n",
    "from skopt.space import Real, Categorical, Integer"
   ]
  },
  {
   "cell_type": "code",
   "execution_count": 3,
   "id": "8647f6cc-1743-4846-8946-dca15793b084",
   "metadata": {},
   "outputs": [],
   "source": [
    "df = pd.read_csv(\"bismillah.csv\")"
   ]
  },
  {
   "cell_type": "markdown",
   "id": "05258cdf-9465-42c5-a8a1-2c545817bf52",
   "metadata": {},
   "source": [
    "## One-Hot Encoder"
   ]
  },
  {
   "cell_type": "code",
   "execution_count": 4,
   "id": "17e2fc00-5018-4c84-a9f9-47956350d87d",
   "metadata": {},
   "outputs": [
    {
     "data": {
      "text/html": [
       "<div>\n",
       "<style scoped>\n",
       "    .dataframe tbody tr th:only-of-type {\n",
       "        vertical-align: middle;\n",
       "    }\n",
       "\n",
       "    .dataframe tbody tr th {\n",
       "        vertical-align: top;\n",
       "    }\n",
       "\n",
       "    .dataframe thead th {\n",
       "        text-align: right;\n",
       "    }\n",
       "</style>\n",
       "<table border=\"1\" class=\"dataframe\">\n",
       "  <thead>\n",
       "    <tr style=\"text-align: right;\">\n",
       "      <th></th>\n",
       "      <th>kamar_tidur</th>\n",
       "      <th>kamar_mandi</th>\n",
       "      <th>luas</th>\n",
       "      <th>harga</th>\n",
       "      <th>kota_Banjar</th>\n",
       "      <th>kota_Banjarbaru</th>\n",
       "      <th>kota_Banjarmasin</th>\n",
       "      <th>kota_Barito</th>\n",
       "      <th>kota_Kalimantan</th>\n",
       "      <th>kecamatan_Alalak</th>\n",
       "      <th>...</th>\n",
       "      <th>kecamatan_Banjarmasin Tengah</th>\n",
       "      <th>kecamatan_Banjarmasin Timur</th>\n",
       "      <th>kecamatan_Banjarmasin Utara</th>\n",
       "      <th>kecamatan_Gambut</th>\n",
       "      <th>kecamatan_Kertak Hanyar</th>\n",
       "      <th>kecamatan_Landasan Ulin</th>\n",
       "      <th>kecamatan_Liang Anggang</th>\n",
       "      <th>kecamatan_Martapura Kota</th>\n",
       "      <th>kecamatan_Sei/Sungai Tabuk</th>\n",
       "      <th>kecamatan_Tatah Makmur</th>\n",
       "    </tr>\n",
       "  </thead>\n",
       "  <tbody>\n",
       "    <tr>\n",
       "      <th>0</th>\n",
       "      <td>2</td>\n",
       "      <td>2</td>\n",
       "      <td>70</td>\n",
       "      <td>400000000</td>\n",
       "      <td>False</td>\n",
       "      <td>False</td>\n",
       "      <td>True</td>\n",
       "      <td>False</td>\n",
       "      <td>False</td>\n",
       "      <td>False</td>\n",
       "      <td>...</td>\n",
       "      <td>False</td>\n",
       "      <td>True</td>\n",
       "      <td>False</td>\n",
       "      <td>False</td>\n",
       "      <td>False</td>\n",
       "      <td>False</td>\n",
       "      <td>False</td>\n",
       "      <td>False</td>\n",
       "      <td>False</td>\n",
       "      <td>False</td>\n",
       "    </tr>\n",
       "    <tr>\n",
       "      <th>1</th>\n",
       "      <td>2</td>\n",
       "      <td>1</td>\n",
       "      <td>60</td>\n",
       "      <td>400000000</td>\n",
       "      <td>False</td>\n",
       "      <td>False</td>\n",
       "      <td>True</td>\n",
       "      <td>False</td>\n",
       "      <td>False</td>\n",
       "      <td>False</td>\n",
       "      <td>...</td>\n",
       "      <td>False</td>\n",
       "      <td>True</td>\n",
       "      <td>False</td>\n",
       "      <td>False</td>\n",
       "      <td>False</td>\n",
       "      <td>False</td>\n",
       "      <td>False</td>\n",
       "      <td>False</td>\n",
       "      <td>False</td>\n",
       "      <td>False</td>\n",
       "    </tr>\n",
       "    <tr>\n",
       "      <th>2</th>\n",
       "      <td>2</td>\n",
       "      <td>1</td>\n",
       "      <td>120</td>\n",
       "      <td>550000000</td>\n",
       "      <td>False</td>\n",
       "      <td>False</td>\n",
       "      <td>True</td>\n",
       "      <td>False</td>\n",
       "      <td>False</td>\n",
       "      <td>False</td>\n",
       "      <td>...</td>\n",
       "      <td>False</td>\n",
       "      <td>False</td>\n",
       "      <td>True</td>\n",
       "      <td>False</td>\n",
       "      <td>False</td>\n",
       "      <td>False</td>\n",
       "      <td>False</td>\n",
       "      <td>False</td>\n",
       "      <td>False</td>\n",
       "      <td>False</td>\n",
       "    </tr>\n",
       "    <tr>\n",
       "      <th>3</th>\n",
       "      <td>3</td>\n",
       "      <td>2</td>\n",
       "      <td>100</td>\n",
       "      <td>555000000</td>\n",
       "      <td>False</td>\n",
       "      <td>False</td>\n",
       "      <td>True</td>\n",
       "      <td>False</td>\n",
       "      <td>False</td>\n",
       "      <td>False</td>\n",
       "      <td>...</td>\n",
       "      <td>False</td>\n",
       "      <td>False</td>\n",
       "      <td>True</td>\n",
       "      <td>False</td>\n",
       "      <td>False</td>\n",
       "      <td>False</td>\n",
       "      <td>False</td>\n",
       "      <td>False</td>\n",
       "      <td>False</td>\n",
       "      <td>False</td>\n",
       "    </tr>\n",
       "    <tr>\n",
       "      <th>4</th>\n",
       "      <td>2</td>\n",
       "      <td>1</td>\n",
       "      <td>45</td>\n",
       "      <td>400000000</td>\n",
       "      <td>False</td>\n",
       "      <td>False</td>\n",
       "      <td>True</td>\n",
       "      <td>False</td>\n",
       "      <td>False</td>\n",
       "      <td>False</td>\n",
       "      <td>...</td>\n",
       "      <td>False</td>\n",
       "      <td>True</td>\n",
       "      <td>False</td>\n",
       "      <td>False</td>\n",
       "      <td>False</td>\n",
       "      <td>False</td>\n",
       "      <td>False</td>\n",
       "      <td>False</td>\n",
       "      <td>False</td>\n",
       "      <td>False</td>\n",
       "    </tr>\n",
       "  </tbody>\n",
       "</table>\n",
       "<p>5 rows × 24 columns</p>\n",
       "</div>"
      ],
      "text/plain": [
       "   kamar_tidur  kamar_mandi  luas      harga  kota_Banjar  kota_Banjarbaru  \\\n",
       "0            2            2    70  400000000        False            False   \n",
       "1            2            1    60  400000000        False            False   \n",
       "2            2            1   120  550000000        False            False   \n",
       "3            3            2   100  555000000        False            False   \n",
       "4            2            1    45  400000000        False            False   \n",
       "\n",
       "   kota_Banjarmasin  kota_Barito  kota_Kalimantan  kecamatan_Alalak  ...  \\\n",
       "0              True        False            False             False  ...   \n",
       "1              True        False            False             False  ...   \n",
       "2              True        False            False             False  ...   \n",
       "3              True        False            False             False  ...   \n",
       "4              True        False            False             False  ...   \n",
       "\n",
       "   kecamatan_Banjarmasin Tengah  kecamatan_Banjarmasin Timur  \\\n",
       "0                         False                         True   \n",
       "1                         False                         True   \n",
       "2                         False                        False   \n",
       "3                         False                        False   \n",
       "4                         False                         True   \n",
       "\n",
       "   kecamatan_Banjarmasin Utara  kecamatan_Gambut  kecamatan_Kertak Hanyar  \\\n",
       "0                        False             False                    False   \n",
       "1                        False             False                    False   \n",
       "2                         True             False                    False   \n",
       "3                         True             False                    False   \n",
       "4                        False             False                    False   \n",
       "\n",
       "   kecamatan_Landasan Ulin  kecamatan_Liang Anggang  kecamatan_Martapura Kota  \\\n",
       "0                    False                    False                     False   \n",
       "1                    False                    False                     False   \n",
       "2                    False                    False                     False   \n",
       "3                    False                    False                     False   \n",
       "4                    False                    False                     False   \n",
       "\n",
       "   kecamatan_Sei/Sungai Tabuk  kecamatan_Tatah Makmur  \n",
       "0                       False                   False  \n",
       "1                       False                   False  \n",
       "2                       False                   False  \n",
       "3                       False                   False  \n",
       "4                       False                   False  \n",
       "\n",
       "[5 rows x 24 columns]"
      ]
     },
     "execution_count": 4,
     "metadata": {},
     "output_type": "execute_result"
    }
   ],
   "source": [
    "from sklearn.preprocessing import OneHotEncoder\n",
    "\n",
    "df = pd.concat([df, pd.get_dummies(df['kota'], prefix='kota')], axis=1)\n",
    "df = pd.concat([df, pd.get_dummies(df['kecamatan'], prefix='kecamatan')], axis=1)\n",
    "df.drop(['kota', 'kecamatan'], axis=1, inplace=True)\n",
    "df.head()"
   ]
  },
  {
   "cell_type": "markdown",
   "id": "197b1178-d142-46e5-aa28-056c1983e923",
   "metadata": {},
   "source": [
    "## Split dataset"
   ]
  },
  {
   "cell_type": "code",
   "execution_count": 5,
   "id": "18723214-3625-4273-93bd-1019487a06ce",
   "metadata": {},
   "outputs": [],
   "source": [
    "X = df.drop(columns=['harga'])\n",
    "y = df['harga']"
   ]
  },
  {
   "cell_type": "code",
   "execution_count": 6,
   "id": "767c1d7d-007b-4401-94b3-62a571e0a161",
   "metadata": {},
   "outputs": [],
   "source": [
    "X_train, X_test, y_train, y_test = train_test_split(\n",
    "    X, y, test_size=0.2, random_state=42)"
   ]
  },
  {
   "cell_type": "markdown",
   "id": "65b13286-dc42-4bc4-805d-a60f72c67545",
   "metadata": {},
   "source": [
    "## Standard Scaler"
   ]
  },
  {
   "cell_type": "code",
   "execution_count": 7,
   "id": "ddeaf3be-c9fa-452a-847e-f9d781e6ebe5",
   "metadata": {},
   "outputs": [],
   "source": [
    "from sklearn.preprocessing import StandardScaler\n",
    "\n",
    "numerical_features = ['kamar_mandi', 'kamar_tidur', 'luas']\n",
    "scaler = StandardScaler()\n",
    "scaler.fit(X_train[numerical_features])\n",
    "X_train[numerical_features] = scaler.transform(X_train.loc[:, numerical_features])"
   ]
  },
  {
   "cell_type": "code",
   "execution_count": 8,
   "id": "3bc41d69-cc24-41c9-b273-682e5e16c962",
   "metadata": {},
   "outputs": [],
   "source": [
    "target_scaler = StandardScaler()\n",
    "y_train_scaled = target_scaler.fit_transform(y_train.values.reshape(-1, 1)).flatten()"
   ]
  },
  {
   "cell_type": "markdown",
   "id": "d34d95cc-7d8d-49e5-b3f8-c3238fe149ed",
   "metadata": {},
   "source": [
    "## Bayesian Optimization"
   ]
  },
  {
   "cell_type": "code",
   "execution_count": 22,
   "id": "43899ebc-c066-40ff-bc48-9c494686b006",
   "metadata": {},
   "outputs": [],
   "source": [
    "def svr_cv(C, gamma, kernel):\n",
    "    model = svm.SVR(C=C, gamma=gamma, kernel=kernel)\n",
    "    scores = cross_val_score(model, X_train, y_train, cv=5, scoring='neg_mean_squared_error')\n",
    "    return scores.mean()"
   ]
  },
  {
   "cell_type": "code",
   "execution_count": 23,
   "id": "b5682af5-ad32-46d4-ad0e-0b2aa4c5c519",
   "metadata": {},
   "outputs": [],
   "source": [
    "def map_kernel(kernel_index):\n",
    "    kernels = ['linear', 'poly', 'rbf', 'sigmoid']\n",
    "    return kernels[int(kernel_index)]\n",
    "\n",
    "def svr_cv_mapped(C, gamma, kernel):\n",
    "    kernel_mapped = map_kernel(kernel)\n",
    "    return svr_cv(C, gamma, kernel_mapped)\n",
    "\n",
    "param_bounds = {\n",
    "    'C': (0.001, 100),\n",
    "    'gamma': (0.0001, 0.1),\n",
    "    'kernel': (0, 3)  # We'll map this to ['linear', 'poly', 'rbf', 'sigmoid']\n",
    "}\n",
    "\n",
    "optimizer = BayesianOptimization(\n",
    "    f=svr_cv_mapped,\n",
    "    pbounds=param_bounds,\n",
    "    random_state=42\n",
    ")"
   ]
  },
  {
   "cell_type": "code",
   "execution_count": 26,
   "id": "039157ca-b38c-4da3-b84a-f8b12a962456",
   "metadata": {},
   "outputs": [
    {
     "name": "stdout",
     "output_type": "stream",
     "text": [
      "|   iter    |  target   |     C     |   gamma   |  kernel   |\n",
      "-------------------------------------------------------------\n",
      "| \u001b[0m60       \u001b[0m | \u001b[0m-1.316e+1\u001b[0m | \u001b[0m60.75    \u001b[0m | \u001b[0m0.01714  \u001b[0m | \u001b[0m0.1952   \u001b[0m |\n",
      "| \u001b[0m61       \u001b[0m | \u001b[0m-1.316e+1\u001b[0m | \u001b[0m94.89    \u001b[0m | \u001b[0m0.09657  \u001b[0m | \u001b[0m2.425    \u001b[0m |\n",
      "| \u001b[0m62       \u001b[0m | \u001b[0m-1.316e+1\u001b[0m | \u001b[0m30.46    \u001b[0m | \u001b[0m0.009857 \u001b[0m | \u001b[0m2.053    \u001b[0m |\n",
      "| \u001b[0m63       \u001b[0m | \u001b[0m-1.316e+1\u001b[0m | \u001b[0m44.02    \u001b[0m | \u001b[0m0.01229  \u001b[0m | \u001b[0m1.486    \u001b[0m |\n",
      "| \u001b[0m64       \u001b[0m | \u001b[0m-1.316e+1\u001b[0m | \u001b[0m3.44     \u001b[0m | \u001b[0m0.09094  \u001b[0m | \u001b[0m0.7763   \u001b[0m |\n",
      "| \u001b[0m65       \u001b[0m | \u001b[0m-1.316e+1\u001b[0m | \u001b[0m66.25    \u001b[0m | \u001b[0m0.03124  \u001b[0m | \u001b[0m1.56     \u001b[0m |\n",
      "| \u001b[0m66       \u001b[0m | \u001b[0m-1.316e+1\u001b[0m | \u001b[0m54.67    \u001b[0m | \u001b[0m0.01857  \u001b[0m | \u001b[0m2.909    \u001b[0m |\n",
      "| \u001b[0m67       \u001b[0m | \u001b[0m-1.316e+1\u001b[0m | \u001b[0m77.51    \u001b[0m | \u001b[0m0.09396  \u001b[0m | \u001b[0m2.684    \u001b[0m |\n",
      "| \u001b[0m68       \u001b[0m | \u001b[0m-1.316e+1\u001b[0m | \u001b[0m59.79    \u001b[0m | \u001b[0m0.0922   \u001b[0m | \u001b[0m0.2655   \u001b[0m |\n",
      "| \u001b[0m69       \u001b[0m | \u001b[0m-1.316e+1\u001b[0m | \u001b[0m19.6     \u001b[0m | \u001b[0m0.004618 \u001b[0m | \u001b[0m0.976    \u001b[0m |\n",
      "| \u001b[0m70       \u001b[0m | \u001b[0m-1.316e+1\u001b[0m | \u001b[0m38.87    \u001b[0m | \u001b[0m0.02721  \u001b[0m | \u001b[0m2.486    \u001b[0m |\n",
      "| \u001b[0m71       \u001b[0m | \u001b[0m-1.316e+1\u001b[0m | \u001b[0m35.68    \u001b[0m | \u001b[0m0.02817  \u001b[0m | \u001b[0m1.628    \u001b[0m |\n",
      "| \u001b[0m72       \u001b[0m | \u001b[0m-1.316e+1\u001b[0m | \u001b[0m14.09    \u001b[0m | \u001b[0m0.08024  \u001b[0m | \u001b[0m0.2237   \u001b[0m |\n",
      "| \u001b[0m73       \u001b[0m | \u001b[0m-1.316e+1\u001b[0m | \u001b[0m98.69    \u001b[0m | \u001b[0m0.07725  \u001b[0m | \u001b[0m0.5961   \u001b[0m |\n",
      "| \u001b[0m74       \u001b[0m | \u001b[0m-1.316e+1\u001b[0m | \u001b[0m0.5532   \u001b[0m | \u001b[0m0.08156  \u001b[0m | \u001b[0m2.121    \u001b[0m |\n",
      "| \u001b[0m75       \u001b[0m | \u001b[0m-1.316e+1\u001b[0m | \u001b[0m72.9     \u001b[0m | \u001b[0m0.07715  \u001b[0m | \u001b[0m0.2221   \u001b[0m |\n",
      "| \u001b[0m76       \u001b[0m | \u001b[0m-1.316e+1\u001b[0m | \u001b[0m35.85    \u001b[0m | \u001b[0m0.01168  \u001b[0m | \u001b[0m2.589    \u001b[0m |\n",
      "| \u001b[0m77       \u001b[0m | \u001b[0m-1.316e+1\u001b[0m | \u001b[0m62.33    \u001b[0m | \u001b[0m0.03316  \u001b[0m | \u001b[0m0.1907   \u001b[0m |\n",
      "| \u001b[0m78       \u001b[0m | \u001b[0m-1.316e+1\u001b[0m | \u001b[0m31.1     \u001b[0m | \u001b[0m0.03259  \u001b[0m | \u001b[0m2.189    \u001b[0m |\n",
      "| \u001b[0m79       \u001b[0m | \u001b[0m-1.316e+1\u001b[0m | \u001b[0m63.76    \u001b[0m | \u001b[0m0.08873  \u001b[0m | \u001b[0m1.417    \u001b[0m |\n",
      "| \u001b[0m80       \u001b[0m | \u001b[0m-1.316e+1\u001b[0m | \u001b[0m100.0    \u001b[0m | \u001b[0m0.01382  \u001b[0m | \u001b[0m0.9454   \u001b[0m |\n",
      "| \u001b[0m81       \u001b[0m | \u001b[0m-1.316e+1\u001b[0m | \u001b[0m54.67    \u001b[0m | \u001b[0m0.02938  \u001b[0m | \u001b[0m0.05681  \u001b[0m |\n",
      "| \u001b[0m82       \u001b[0m | \u001b[0m-1.316e+1\u001b[0m | \u001b[0m83.51    \u001b[0m | \u001b[0m0.1      \u001b[0m | \u001b[0m2.846    \u001b[0m |\n",
      "| \u001b[0m83       \u001b[0m | \u001b[0m-1.316e+1\u001b[0m | \u001b[0m59.31    \u001b[0m | \u001b[0m0.06093  \u001b[0m | \u001b[0m2.971    \u001b[0m |\n",
      "| \u001b[0m84       \u001b[0m | \u001b[0m-1.316e+1\u001b[0m | \u001b[0m99.42    \u001b[0m | \u001b[0m0.0001   \u001b[0m | \u001b[0m0.6431   \u001b[0m |\n",
      "| \u001b[0m85       \u001b[0m | \u001b[0m-1.316e+1\u001b[0m | \u001b[0m9.179    \u001b[0m | \u001b[0m0.0001   \u001b[0m | \u001b[0m0.0      \u001b[0m |\n",
      "| \u001b[0m86       \u001b[0m | \u001b[0m-1.316e+1\u001b[0m | \u001b[0m40.47    \u001b[0m | \u001b[0m0.1      \u001b[0m | \u001b[0m0.0      \u001b[0m |\n",
      "| \u001b[0m87       \u001b[0m | \u001b[0m-1.316e+1\u001b[0m | \u001b[0m27.13    \u001b[0m | \u001b[0m0.006542 \u001b[0m | \u001b[0m2.965    \u001b[0m |\n",
      "| \u001b[0m88       \u001b[0m | \u001b[0m-1.316e+1\u001b[0m | \u001b[0m51.62    \u001b[0m | \u001b[0m0.1      \u001b[0m | \u001b[0m3.0      \u001b[0m |\n",
      "| \u001b[0m89       \u001b[0m | \u001b[0m-1.316e+1\u001b[0m | \u001b[0m100.0    \u001b[0m | \u001b[0m0.1      \u001b[0m | \u001b[0m0.4923   \u001b[0m |\n",
      "| \u001b[0m90       \u001b[0m | \u001b[0m-1.316e+1\u001b[0m | \u001b[0m94.06    \u001b[0m | \u001b[0m0.1      \u001b[0m | \u001b[0m0.0      \u001b[0m |\n",
      "| \u001b[0m91       \u001b[0m | \u001b[0m-1.316e+1\u001b[0m | \u001b[0m85.56    \u001b[0m | \u001b[0m0.01258  \u001b[0m | \u001b[0m0.8671   \u001b[0m |\n",
      "| \u001b[0m92       \u001b[0m | \u001b[0m-1.316e+1\u001b[0m | \u001b[0m87.46    \u001b[0m | \u001b[0m0.004287 \u001b[0m | \u001b[0m0.9925   \u001b[0m |\n",
      "| \u001b[0m93       \u001b[0m | \u001b[0m-1.316e+1\u001b[0m | \u001b[0m25.2     \u001b[0m | \u001b[0m0.1      \u001b[0m | \u001b[0m0.0      \u001b[0m |\n",
      "| \u001b[0m94       \u001b[0m | \u001b[0m-1.316e+1\u001b[0m | \u001b[0m20.82    \u001b[0m | \u001b[0m0.08179  \u001b[0m | \u001b[0m2.971    \u001b[0m |\n",
      "| \u001b[0m95       \u001b[0m | \u001b[0m-1.316e+1\u001b[0m | \u001b[0m86.65    \u001b[0m | \u001b[0m0.05744  \u001b[0m | \u001b[0m0.8329   \u001b[0m |\n",
      "| \u001b[0m96       \u001b[0m | \u001b[0m-1.316e+1\u001b[0m | \u001b[0m84.28    \u001b[0m | \u001b[0m0.07426  \u001b[0m | \u001b[0m0.8891   \u001b[0m |\n",
      "| \u001b[0m97       \u001b[0m | \u001b[0m-1.316e+1\u001b[0m | \u001b[0m98.88    \u001b[0m | \u001b[0m0.0001   \u001b[0m | \u001b[0m0.3585   \u001b[0m |\n",
      "| \u001b[0m98       \u001b[0m | \u001b[0m-1.316e+1\u001b[0m | \u001b[0m97.51    \u001b[0m | \u001b[0m0.1      \u001b[0m | \u001b[0m0.0      \u001b[0m |\n",
      "| \u001b[0m99       \u001b[0m | \u001b[0m-1.316e+1\u001b[0m | \u001b[0m67.9     \u001b[0m | \u001b[0m0.1      \u001b[0m | \u001b[0m0.0      \u001b[0m |\n",
      "| \u001b[0m100      \u001b[0m | \u001b[0m-1.316e+1\u001b[0m | \u001b[0m99.43    \u001b[0m | \u001b[0m0.1      \u001b[0m | \u001b[0m1.15     \u001b[0m |\n",
      "| \u001b[0m101      \u001b[0m | \u001b[0m-1.316e+1\u001b[0m | \u001b[0m88.75    \u001b[0m | \u001b[0m0.03705  \u001b[0m | \u001b[0m0.8812   \u001b[0m |\n",
      "| \u001b[0m102      \u001b[0m | \u001b[0m-1.316e+1\u001b[0m | \u001b[0m92.64    \u001b[0m | \u001b[0m0.006192 \u001b[0m | \u001b[0m0.8824   \u001b[0m |\n",
      "| \u001b[0m103      \u001b[0m | \u001b[0m-1.316e+1\u001b[0m | \u001b[0m80.78    \u001b[0m | \u001b[0m0.0836   \u001b[0m | \u001b[0m0.8592   \u001b[0m |\n",
      "| \u001b[0m104      \u001b[0m | \u001b[0m-1.316e+1\u001b[0m | \u001b[0m81.94    \u001b[0m | \u001b[0m0.02361  \u001b[0m | \u001b[0m1.168    \u001b[0m |\n",
      "| \u001b[0m105      \u001b[0m | \u001b[0m-1.316e+1\u001b[0m | \u001b[0m79.5     \u001b[0m | \u001b[0m0.007043 \u001b[0m | \u001b[0m0.9446   \u001b[0m |\n",
      "| \u001b[0m106      \u001b[0m | \u001b[0m-1.316e+1\u001b[0m | \u001b[0m75.6     \u001b[0m | \u001b[0m0.0001   \u001b[0m | \u001b[0m0.0      \u001b[0m |\n",
      "| \u001b[0m107      \u001b[0m | \u001b[0m-1.316e+1\u001b[0m | \u001b[0m93.66    \u001b[0m | \u001b[0m0.0001   \u001b[0m | \u001b[0m0.782    \u001b[0m |\n",
      "| \u001b[0m108      \u001b[0m | \u001b[0m-1.316e+1\u001b[0m | \u001b[0m73.25    \u001b[0m | \u001b[0m0.03643  \u001b[0m | \u001b[0m1.553    \u001b[0m |\n",
      "| \u001b[0m109      \u001b[0m | \u001b[0m-1.316e+1\u001b[0m | \u001b[0m95.28    \u001b[0m | \u001b[0m0.0001   \u001b[0m | \u001b[0m0.7706   \u001b[0m |\n",
      "| \u001b[0m110      \u001b[0m | \u001b[0m-1.316e+1\u001b[0m | \u001b[0m70.32    \u001b[0m | \u001b[0m0.04191  \u001b[0m | \u001b[0m0.09554  \u001b[0m |\n",
      "| \u001b[0m111      \u001b[0m | \u001b[0m-1.316e+1\u001b[0m | \u001b[0m80.86    \u001b[0m | \u001b[0m0.04162  \u001b[0m | \u001b[0m0.03218  \u001b[0m |\n",
      "| \u001b[0m112      \u001b[0m | \u001b[0m-1.316e+1\u001b[0m | \u001b[0m88.3     \u001b[0m | \u001b[0m0.0001   \u001b[0m | \u001b[0m1.976    \u001b[0m |\n",
      "| \u001b[0m113      \u001b[0m | \u001b[0m-1.316e+1\u001b[0m | \u001b[0m68.86    \u001b[0m | \u001b[0m0.1      \u001b[0m | \u001b[0m1.394    \u001b[0m |\n",
      "| \u001b[0m114      \u001b[0m | \u001b[0m-1.316e+1\u001b[0m | \u001b[0m77.8     \u001b[0m | \u001b[0m0.1      \u001b[0m | \u001b[0m0.8384   \u001b[0m |\n",
      "| \u001b[0m115      \u001b[0m | \u001b[0m-1.316e+1\u001b[0m | \u001b[0m94.51    \u001b[0m | \u001b[0m0.1      \u001b[0m | \u001b[0m0.666    \u001b[0m |\n",
      "| \u001b[0m116      \u001b[0m | \u001b[0m-1.316e+1\u001b[0m | \u001b[0m15.83    \u001b[0m | \u001b[0m0.01331  \u001b[0m | \u001b[0m2.962    \u001b[0m |\n",
      "| \u001b[0m117      \u001b[0m | \u001b[0m-1.316e+1\u001b[0m | \u001b[0m53.18    \u001b[0m | \u001b[0m0.0001   \u001b[0m | \u001b[0m0.5482   \u001b[0m |\n",
      "| \u001b[0m118      \u001b[0m | \u001b[0m-1.316e+1\u001b[0m | \u001b[0m58.3     \u001b[0m | \u001b[0m0.000954 \u001b[0m | \u001b[0m0.8541   \u001b[0m |\n",
      "| \u001b[0m119      \u001b[0m | \u001b[0m-1.316e+1\u001b[0m | \u001b[0m31.75    \u001b[0m | \u001b[0m0.0001   \u001b[0m | \u001b[0m0.0      \u001b[0m |\n",
      "| \u001b[0m120      \u001b[0m | \u001b[0m-1.316e+1\u001b[0m | \u001b[0m49.6     \u001b[0m | \u001b[0m0.1      \u001b[0m | \u001b[0m0.0      \u001b[0m |\n",
      "| \u001b[0m121      \u001b[0m | \u001b[0m-1.316e+1\u001b[0m | \u001b[0m45.71    \u001b[0m | \u001b[0m0.01238  \u001b[0m | \u001b[0m2.954    \u001b[0m |\n",
      "| \u001b[0m122      \u001b[0m | \u001b[0m-1.316e+1\u001b[0m | \u001b[0m11.64    \u001b[0m | \u001b[0m0.1      \u001b[0m | \u001b[0m0.0      \u001b[0m |\n",
      "| \u001b[0m123      \u001b[0m | \u001b[0m-1.316e+1\u001b[0m | \u001b[0m91.71    \u001b[0m | \u001b[0m0.0738   \u001b[0m | \u001b[0m0.826    \u001b[0m |\n",
      "| \u001b[0m124      \u001b[0m | \u001b[0m-1.316e+1\u001b[0m | \u001b[0m92.32    \u001b[0m | \u001b[0m0.06301  \u001b[0m | \u001b[0m2.023    \u001b[0m |\n",
      "| \u001b[0m125      \u001b[0m | \u001b[0m-1.316e+1\u001b[0m | \u001b[0m92.49    \u001b[0m | \u001b[0m0.02905  \u001b[0m | \u001b[0m0.2573   \u001b[0m |\n",
      "| \u001b[0m126      \u001b[0m | \u001b[0m-1.316e+1\u001b[0m | \u001b[0m38.22    \u001b[0m | \u001b[0m0.1      \u001b[0m | \u001b[0m0.0      \u001b[0m |\n",
      "| \u001b[0m127      \u001b[0m | \u001b[0m-1.316e+1\u001b[0m | \u001b[0m65.3     \u001b[0m | \u001b[0m0.06211  \u001b[0m | \u001b[0m0.02712  \u001b[0m |\n",
      "| \u001b[0m128      \u001b[0m | \u001b[0m-1.316e+1\u001b[0m | \u001b[0m16.46    \u001b[0m | \u001b[0m0.08683  \u001b[0m | \u001b[0m0.08765  \u001b[0m |\n",
      "| \u001b[0m129      \u001b[0m | \u001b[0m-1.316e+1\u001b[0m | \u001b[0m41.13    \u001b[0m | \u001b[0m0.07307  \u001b[0m | \u001b[0m2.877    \u001b[0m |\n",
      "=============================================================\n"
     ]
    }
   ],
   "source": [
    "optimizer.maximize(\n",
    "    init_points=10,  # Number of initial random points\n",
    "    n_iter=50  # Number of iterations for optimization\n",
    ")"
   ]
  },
  {
   "cell_type": "code",
   "execution_count": 29,
   "id": "f04ca10b-07ab-40bb-bfc5-93587af3a06f",
   "metadata": {},
   "outputs": [
    {
     "name": "stdout",
     "output_type": "stream",
     "text": [
      "Best parameters: {'C': 100.0, 'gamma': 0.1, 'kernel': 'linear'}\n",
      "Test set score: -0.07929750801811508\n"
     ]
    }
   ],
   "source": [
    "best_params = optimizer.max['params']\n",
    "best_params['kernel'] = map_kernel(best_params['kernel'])\n",
    "\n",
    "best_model = svm.SVR(**best_params)\n",
    "best_model.fit(X_train, y_train)\n",
    "test_score = best_model.score(X_test, y_test)\n",
    "\n",
    "print(f\"Best parameters: {best_params}\")\n",
    "print(f\"Test set score: {test_score}\")\n"
   ]
  },
  {
   "cell_type": "markdown",
   "id": "27d4b68a-e13a-46fa-a8c9-6883fe5c6337",
   "metadata": {},
   "source": [
    "## Model development"
   ]
  },
  {
   "cell_type": "code",
   "execution_count": 32,
   "id": "fc720d2c-b2c4-43b3-b3cd-0a49dd256b9f",
   "metadata": {},
   "outputs": [],
   "source": [
    "SVR_new = svm.SVR(C= 100.0, gamma=0.1, kernel='linear')\n",
    "\n",
    "model = SVR_new.fit(X_train, y_train_scaled)"
   ]
  },
  {
   "cell_type": "code",
   "execution_count": 33,
   "id": "eb63e5fc-f018-4446-9821-8e0de9fde3aa",
   "metadata": {},
   "outputs": [
    {
     "name": "stdout",
     "output_type": "stream",
     "text": [
      "MSE: 4.188304846090571e+17 and RMSE:647171140.1237366\n"
     ]
    }
   ],
   "source": [
    "y_pred = model.predict(X_test)\n",
    "\n",
    "mse = mean_squared_error(y_test, y_pred)\n",
    "rmse = root_mean_squared_error(y_test, y_pred)\n",
    "print(f\"MSE: {mse} and RMSE:{rmse}\")"
   ]
  },
  {
   "cell_type": "code",
   "execution_count": 34,
   "id": "6971f5c6-3c9d-4f09-9417-7ea1b9e7f618",
   "metadata": {},
   "outputs": [
    {
     "data": {
      "image/png": "[encoded data removed]",
      "text/plain": [
       "<Figure size 640x480 with 1 Axes>"
      ]
     },
     "metadata": {},
     "output_type": "display_data"
    }
   ],
   "source": [
    "plt.scatter(y_test, y_pred, color='blue', label='Predicted vs True Values')\n",
    "plt.xlabel('True Values')\n",
    "plt.ylabel('Predicted Values')\n",
    "plt.legend()\n",
    "plt.plot([min(y_test), max(y_test)], [min(y_test), max(y_test)], color='red')  # Diagonal line for reference\n",
    "plt.show()"
   ]
  },
  {
   "cell_type": "code",
   "execution_count": null,
   "id": "c7526f23-1959-46f4-95ca-172852fd8de0",
   "metadata": {},
   "outputs": [],
   "source": []
  }
 ],
 "metadata": {
  "kernelspec": {
   "display_name": "Python 3 (ipykernel)",
   "language": "python",
   "name": "python3"
  },
  "language_info": {
   "codemirror_mode": {
    "name": "ipython",
    "version": 3
   },
   "file_extension": ".py",
   "mimetype": "text/x-python",
   "name": "python",
   "nbconvert_exporter": "python",
   "pygments_lexer": "ipython3",
   "version": "3.10.0"
  }
 },
 "nbformat": 4,
 "nbformat_minor": 5
}
